{
 "cells": [
  {
   "cell_type": "code",
   "execution_count": 1,
   "metadata": {},
   "outputs": [
    {
     "name": "stdout",
     "output_type": "stream",
     "text": [
      "Requirement already satisfied: voila in c:\\users\\soayuchan\\appdata\\roaming\\python\\python37\\site-packages (0.2.13)\n",
      "Requirement already satisfied: nbclient<0.6,>=0.4.0 in c:\\users\\soayuchan\\appdata\\roaming\\python\\python37\\site-packages (from voila) (0.5.4)\n",
      "Requirement already satisfied: jupyter-server<2.0.0,>=0.3.0 in c:\\users\\soayuchan\\appdata\\roaming\\python\\python37\\site-packages (from voila) (1.11.0)\n",
      "Requirement already satisfied: jupyter-client<7,>=6.1.3 in c:\\users\\soayuchan\\appdata\\roaming\\python\\python37\\site-packages (from voila) (6.1.12)\n",
      "Requirement already satisfied: nbconvert<7,>=6.0.0 in c:\\users\\soayuchan\\appdata\\roaming\\python\\python37\\site-packages (from voila) (6.1.0)\n",
      "Requirement already satisfied: traitlets in c:\\users\\soayuchan\\anaconda3\\lib\\site-packages (from jupyter-client<7,>=6.1.3->voila) (5.1.0)\n",
      "Requirement already satisfied: pyzmq>=13 in c:\\users\\soayuchan\\anaconda3\\lib\\site-packages (from jupyter-client<7,>=6.1.3->voila) (18.1.1)\n",
      "Requirement already satisfied: jupyter-core>=4.6.0 in c:\\users\\soayuchan\\anaconda3\\lib\\site-packages (from jupyter-client<7,>=6.1.3->voila) (4.6.1)\n",
      "Requirement already satisfied: python-dateutil>=2.1 in c:\\users\\soayuchan\\anaconda3\\lib\\site-packages (from jupyter-client<7,>=6.1.3->voila) (2.8.1)\n",
      "Requirement already satisfied: tornado>=4.1 in c:\\users\\soayuchan\\anaconda3\\lib\\site-packages (from jupyter-client<7,>=6.1.3->voila) (6.1)\n",
      "Requirement already satisfied: pywin32>=1.0 in c:\\users\\soayuchan\\anaconda3\\lib\\site-packages (from jupyter-core>=4.6.0->jupyter-client<7,>=6.1.3->voila) (227)\n",
      "Requirement already satisfied: ipython-genutils in c:\\users\\soayuchan\\anaconda3\\lib\\site-packages (from jupyter-server<2.0.0,>=0.3.0->voila) (0.2.0)\n",
      "Requirement already satisfied: jinja2 in c:\\users\\soayuchan\\anaconda3\\lib\\site-packages (from jupyter-server<2.0.0,>=0.3.0->voila) (2.11.1)\n",
      "Requirement already satisfied: requests-unixsocket in c:\\users\\soayuchan\\appdata\\roaming\\python\\python37\\site-packages (from jupyter-server<2.0.0,>=0.3.0->voila) (0.2.0)\n",
      "Requirement already satisfied: terminado>=0.8.3 in c:\\users\\soayuchan\\anaconda3\\lib\\site-packages (from jupyter-server<2.0.0,>=0.3.0->voila) (0.8.3)\n",
      "Requirement already satisfied: nbformat in c:\\users\\soayuchan\\anaconda3\\lib\\site-packages (from jupyter-server<2.0.0,>=0.3.0->voila) (5.0.4)\n",
      "Requirement already satisfied: prometheus-client in c:\\users\\soayuchan\\anaconda3\\lib\\site-packages (from jupyter-server<2.0.0,>=0.3.0->voila) (0.7.1)\n",
      "Requirement already satisfied: Send2Trash in c:\\users\\soayuchan\\anaconda3\\lib\\site-packages (from jupyter-server<2.0.0,>=0.3.0->voila) (1.5.0)\n",
      "Requirement already satisfied: anyio<4,>=3.1.0 in c:\\users\\soayuchan\\appdata\\roaming\\python\\python37\\site-packages (from jupyter-server<2.0.0,>=0.3.0->voila) (3.3.1)\n",
      "Requirement already satisfied: websocket-client in c:\\users\\soayuchan\\appdata\\roaming\\python\\python37\\site-packages (from jupyter-server<2.0.0,>=0.3.0->voila) (1.2.1)\n",
      "Requirement already satisfied: argon2-cffi in c:\\users\\soayuchan\\appdata\\roaming\\python\\python37\\site-packages (from jupyter-server<2.0.0,>=0.3.0->voila) (21.1.0)\n",
      "Requirement already satisfied: typing-extensions in c:\\users\\soayuchan\\anaconda3\\lib\\site-packages (from anyio<4,>=3.1.0->jupyter-server<2.0.0,>=0.3.0->voila) (3.7.4.3)\n",
      "Requirement already satisfied: idna>=2.8 in c:\\users\\soayuchan\\anaconda3\\lib\\site-packages (from anyio<4,>=3.1.0->jupyter-server<2.0.0,>=0.3.0->voila) (2.8)\n",
      "Requirement already satisfied: sniffio>=1.1 in c:\\users\\soayuchan\\appdata\\roaming\\python\\python37\\site-packages (from anyio<4,>=3.1.0->jupyter-server<2.0.0,>=0.3.0->voila) (1.2.0)\n",
      "Requirement already satisfied: nest-asyncio in c:\\users\\soayuchan\\appdata\\roaming\\python\\python37\\site-packages (from nbclient<0.6,>=0.4.0->voila) (1.5.1)\n",
      "Requirement already satisfied: testpath in c:\\users\\soayuchan\\anaconda3\\lib\\site-packages (from nbconvert<7,>=6.0.0->voila) (0.4.4)\n",
      "Requirement already satisfied: entrypoints>=0.2.2 in c:\\users\\soayuchan\\anaconda3\\lib\\site-packages (from nbconvert<7,>=6.0.0->voila) (0.3)\n",
      "Requirement already satisfied: defusedxml in c:\\users\\soayuchan\\anaconda3\\lib\\site-packages (from nbconvert<7,>=6.0.0->voila) (0.6.0)\n",
      "Requirement already satisfied: bleach in c:\\users\\soayuchan\\anaconda3\\lib\\site-packages (from nbconvert<7,>=6.0.0->voila) (3.1.0)\n",
      "Requirement already satisfied: pandocfilters>=1.4.1 in c:\\users\\soayuchan\\anaconda3\\lib\\site-packages (from nbconvert<7,>=6.0.0->voila) (1.4.2)\n",
      "Requirement already satisfied: mistune<2,>=0.8.1 in c:\\users\\soayuchan\\anaconda3\\lib\\site-packages (from nbconvert<7,>=6.0.0->voila) (0.8.4)\n",
      "Requirement already satisfied: jupyterlab-pygments in c:\\users\\soayuchan\\appdata\\roaming\\python\\python37\\site-packages (from nbconvert<7,>=6.0.0->voila) (0.1.2)\n",
      "Requirement already satisfied: pygments>=2.4.1 in c:\\users\\soayuchan\\anaconda3\\lib\\site-packages (from nbconvert<7,>=6.0.0->voila) (2.5.2)\n",
      "Requirement already satisfied: MarkupSafe>=0.23 in c:\\users\\soayuchan\\anaconda3\\lib\\site-packages (from jinja2->jupyter-server<2.0.0,>=0.3.0->voila) (1.1.1)\n",
      "Requirement already satisfied: jsonschema!=2.5.0,>=2.4 in c:\\users\\soayuchan\\anaconda3\\lib\\site-packages (from nbformat->jupyter-server<2.0.0,>=0.3.0->voila) (3.2.0)\n",
      "Requirement already satisfied: importlib-metadata in c:\\users\\soayuchan\\anaconda3\\lib\\site-packages (from jsonschema!=2.5.0,>=2.4->nbformat->jupyter-server<2.0.0,>=0.3.0->voila) (1.5.0)\n",
      "Requirement already satisfied: pyrsistent>=0.14.0 in c:\\users\\soayuchan\\anaconda3\\lib\\site-packages (from jsonschema!=2.5.0,>=2.4->nbformat->jupyter-server<2.0.0,>=0.3.0->voila) (0.15.7)\n",
      "Requirement already satisfied: six>=1.11.0 in c:\\users\\soayuchan\\anaconda3\\lib\\site-packages (from jsonschema!=2.5.0,>=2.4->nbformat->jupyter-server<2.0.0,>=0.3.0->voila) (1.14.0)\n",
      "Requirement already satisfied: attrs>=17.4.0 in c:\\users\\soayuchan\\anaconda3\\lib\\site-packages (from jsonschema!=2.5.0,>=2.4->nbformat->jupyter-server<2.0.0,>=0.3.0->voila) (19.3.0)\n",
      "Requirement already satisfied: setuptools in c:\\users\\soayuchan\\anaconda3\\lib\\site-packages (from jsonschema!=2.5.0,>=2.4->nbformat->jupyter-server<2.0.0,>=0.3.0->voila) (47.3.1)\n",
      "Requirement already satisfied: cffi>=1.0.0 in c:\\users\\soayuchan\\anaconda3\\lib\\site-packages (from argon2-cffi->jupyter-server<2.0.0,>=0.3.0->voila) (1.14.0)\n",
      "Requirement already satisfied: pycparser in c:\\users\\soayuchan\\anaconda3\\lib\\site-packages (from cffi>=1.0.0->argon2-cffi->jupyter-server<2.0.0,>=0.3.0->voila) (2.19)\n",
      "Requirement already satisfied: webencodings in c:\\users\\soayuchan\\anaconda3\\lib\\site-packages (from bleach->nbconvert<7,>=6.0.0->voila) (0.5.1)\n",
      "Requirement already satisfied: zipp>=0.5 in c:\\users\\soayuchan\\anaconda3\\lib\\site-packages (from importlib-metadata->jsonschema!=2.5.0,>=2.4->nbformat->jupyter-server<2.0.0,>=0.3.0->voila) (2.2.0)\n",
      "Requirement already satisfied: requests>=1.1 in c:\\users\\soayuchan\\anaconda3\\lib\\site-packages (from requests-unixsocket->jupyter-server<2.0.0,>=0.3.0->voila) (2.22.0)\n",
      "Requirement already satisfied: urllib3>=1.8 in c:\\users\\soayuchan\\anaconda3\\lib\\site-packages (from requests-unixsocket->jupyter-server<2.0.0,>=0.3.0->voila) (1.25.8)\n",
      "Requirement already satisfied: chardet<3.1.0,>=3.0.2 in c:\\users\\soayuchan\\anaconda3\\lib\\site-packages (from requests>=1.1->requests-unixsocket->jupyter-server<2.0.0,>=0.3.0->voila) (3.0.4)\n",
      "Requirement already satisfied: certifi>=2017.4.17 in c:\\users\\soayuchan\\anaconda3\\lib\\site-packages (from requests>=1.1->requests-unixsocket->jupyter-server<2.0.0,>=0.3.0->voila) (2019.11.28)\n"
     ]
    },
    {
     "name": "stderr",
     "output_type": "stream",
     "text": [
      "Enabling: voila\n",
      "- Writing config: C:\\Users\\soayuchan\\anaconda3\\etc\\jupyter\n",
      "    - Validating...\n",
      "      voila 0.2.13 ok\n"
     ]
    }
   ],
   "source": [
    "#hide\n",
    "!pip install voila --user\n",
    "!jupyter serverextension enable --sys-prefix voila "
   ]
  },
  {
   "cell_type": "code",
   "execution_count": 2,
   "metadata": {},
   "outputs": [],
   "source": [
    "#hide\n",
    "# !pip install -Uqq fastbook\n",
    "# import fastbook\n",
    "# fastbook.setup_book()"
   ]
  },
  {
   "cell_type": "code",
   "execution_count": 5,
   "metadata": {},
   "outputs": [],
   "source": [
    "#hide\n",
    "from fastbook import *\n",
    "from fastai.vision.widgets import *\n",
    "import os"
   ]
  },
  {
   "cell_type": "code",
   "execution_count": 6,
   "metadata": {},
   "outputs": [],
   "source": [
    "learn_inf = load_learner('./export.pkl')"
   ]
  },
  {
   "cell_type": "code",
   "execution_count": 7,
   "metadata": {},
   "outputs": [],
   "source": [
    "#hide_output\n",
    "btn_upload = widgets.FileUpload()\n",
    "# btn_upload"
   ]
  },
  {
   "cell_type": "code",
   "execution_count": 8,
   "metadata": {},
   "outputs": [],
   "source": [
    "#hide\n",
    "# For the book, we can't actually click an upload button, so we fake it\n",
    "btn_upload = SimpleNamespace(data = ['./images/seallion.jpg'])\n",
    "img = PILImage.create(btn_upload.data[-1])"
   ]
  },
  {
   "cell_type": "code",
   "execution_count": 9,
   "metadata": {},
   "outputs": [],
   "source": [
    "#hide_output\n",
    "out_pl = widgets.Output()\n",
    "out_pl.clear_output()\n",
    "with out_pl: display(img.to_thumb(128,128))\n",
    "# out_pl"
   ]
  },
  {
   "cell_type": "code",
   "execution_count": 10,
   "metadata": {},
   "outputs": [
    {
     "data": {
      "text/html": [],
      "text/plain": [
       "<IPython.core.display.HTML object>"
      ]
     },
     "metadata": {},
     "output_type": "display_data"
    },
    {
     "name": "stderr",
     "output_type": "stream",
     "text": [
      "C:\\Users\\soayuchan\\anaconda3\\lib\\site-packages\\torch\\nn\\functional.py:718: UserWarning: Named tensors and all their associated APIs are an experimental feature and subject to change. Please do not use them for anything important until they are released as stable. (Triggered internally at  ..\\c10/core/TensorImpl.h:1156.)\n",
      "  return torch.max_pool2d(input, kernel_size, stride, padding, dilation, ceil_mode)\n"
     ]
    }
   ],
   "source": [
    "pred,pred_idx,probs = learn_inf.predict(img)"
   ]
  },
  {
   "cell_type": "code",
   "execution_count": 11,
   "metadata": {},
   "outputs": [],
   "source": [
    "#hide_output\n",
    "lbl_pred = widgets.Label()\n",
    "lbl_pred.value = f'Prediction: {pred}; Probability: {probs[pred_idx]:.04f}'\n",
    "# lbl_pred"
   ]
  },
  {
   "cell_type": "code",
   "execution_count": 12,
   "metadata": {},
   "outputs": [],
   "source": [
    "#hide_output\n",
    "btn_run = widgets.Button(description='Classify')\n",
    "# btn_run"
   ]
  },
  {
   "cell_type": "code",
   "execution_count": 13,
   "metadata": {},
   "outputs": [],
   "source": [
    "def on_click_classify(change):\n",
    "    img = PILImage.create(btn_upload.data[-1])\n",
    "    out_pl.clear_output()\n",
    "    with out_pl: display(img.to_thumb(128,128))\n",
    "    pred,pred_idx,probs = learn_inf.predict(img)\n",
    "    lbl_pred.value = f'Prediction: {pred}; Probability: {probs[pred_idx]:.04f}'\n",
    "\n",
    "btn_run.on_click(on_click_classify)"
   ]
  },
  {
   "cell_type": "code",
   "execution_count": 14,
   "metadata": {},
   "outputs": [],
   "source": [
    "#hide\n",
    "#Putting back btn_upload to a widget for next cell\n",
    "btn_upload = widgets.FileUpload()"
   ]
  },
  {
   "cell_type": "code",
   "execution_count": 15,
   "metadata": {},
   "outputs": [
    {
     "data": {
      "application/vnd.jupyter.widget-view+json": {
       "model_id": "9b3bf9e847c246faa0aa1e7dc858d1e5",
       "version_major": 2,
       "version_minor": 0
      },
      "text/plain": [
       "VBox(children=(Label(value='Select your seadog!'), FileUpload(value={}, description='Upload'), Button(descript…"
      ]
     },
     "metadata": {},
     "output_type": "display_data"
    }
   ],
   "source": [
    "#hide_output\n",
    "VBox([widgets.Label('Select your seadog!'), \n",
    "      btn_upload, btn_run, out_pl, lbl_pred])"
   ]
  }
 ],
 "metadata": {
  "kernelspec": {
   "display_name": "Python 3",
   "language": "python",
   "name": "python3"
  },
  "language_info": {
   "codemirror_mode": {
    "name": "ipython",
    "version": 3
   },
   "file_extension": ".py",
   "mimetype": "text/x-python",
   "name": "python",
   "nbconvert_exporter": "python",
   "pygments_lexer": "ipython3",
   "version": "3.7.6"
  }
 },
 "nbformat": 4,
 "nbformat_minor": 4
}
